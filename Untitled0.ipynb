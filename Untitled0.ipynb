{
  "nbformat": 4,
  "nbformat_minor": 0,
  "metadata": {
    "colab": {
      "provenance": [],
      "authorship_tag": "ABX9TyMVrG9YsYyeGBR/aAkztJ/P",
      "include_colab_link": true
    },
    "kernelspec": {
      "name": "python3",
      "display_name": "Python 3"
    },
    "language_info": {
      "name": "python"
    }
  },
  "cells": [
    {
      "cell_type": "markdown",
      "metadata": {
        "id": "view-in-github",
        "colab_type": "text"
      },
      "source": [
        "<a href=\"https://colab.research.google.com/github/Mani8217/Awesome-Profile-README-templates/blob/master/Untitled0.ipynb\" target=\"_parent\"><img src=\"https://colab.research.google.com/assets/colab-badge.svg\" alt=\"Open In Colab\"/></a>"
      ]
    },
    {
      "cell_type": "markdown",
      "source": [
        "Variables"
      ],
      "metadata": {
        "id": "ayRnnbtHYc4K"
      }
    },
    {
      "cell_type": "code",
      "source": [
        "num = 1\n",
        "# String\n",
        "mi_nombre = \"Mani\"\n",
        "# Boolean\n",
        "mi_booleano = True\n",
        "# Real\n",
        "payment = 30.00\n",
        "#Lista\n",
        "alumnos = [\"Mani\" , \"vada\" , \"Pepe\", \"Camila\"]\n",
        "alumnos_tupla = (\"Mani\" , \"Camila\" , \"Pepe\" , \"Vada\")\n",
        "alumnos_diccionario = {\"nombre\": \"Mani\" , \"curso\" : \"AI\" , 'idioma' : \"Español\"}\n"
      ],
      "metadata": {
        "id": "glqUzE-6YfxR"
      },
      "execution_count": null,
      "outputs": []
    },
    {
      "cell_type": "markdown",
      "source": [
        "Operadores"
      ],
      "metadata": {
        "id": "VmrSoUOZO6d5"
      }
    },
    {
      "cell_type": "code",
      "execution_count": null,
      "metadata": {
        "id": "gZ2UuRiAOlez"
      },
      "outputs": [],
      "source": [
        "sum = 2 + 2\n",
        "resta = 2 - 1\n",
        "division = 4 / 2\n",
        "multiplicación = 2 * 2\n",
        "es_mayor = 1 > 2\n",
        "es_mayor_igual = 1 <= 2"
      ]
    },
    {
      "cell_type": "markdown",
      "source": [
        "Funciones"
      ],
      "metadata": {
        "id": "bEWYyD71PZI6"
      }
    },
    {
      "cell_type": "code",
      "source": [
        "def greeting(name):\n",
        "  print(f'Hello, {name}')\n",
        "greeting('Mani')"
      ],
      "metadata": {
        "id": "yedgDjjVPdMg"
      },
      "execution_count": null,
      "outputs": []
    },
    {
      "cell_type": "markdown",
      "source": [
        "Loops"
      ],
      "metadata": {
        "id": "LhgkayD9PrHI"
      }
    },
    {
      "cell_type": "markdown",
      "source": [
        "# For"
      ],
      "metadata": {
        "id": "MFYaDFUqSg6a"
      }
    },
    {
      "cell_type": "code",
      "source": [
        "for i in alumnos:\n",
        "  print(i)"
      ],
      "metadata": {
        "id": "Cmmtrw_5PvwR"
      },
      "execution_count": null,
      "outputs": []
    },
    {
      "cell_type": "code",
      "source": [
        "alumnos = ['Mani' , 'Pepe' , 'Anca' , 'Vada']\n",
        "\n",
        "for i in range(2):\n",
        "  print(alumnos[i])\n",
        "\n"
      ],
      "metadata": {
        "colab": {
          "base_uri": "https://localhost:8080/"
        },
        "id": "FSbOoBIfP9c0",
        "outputId": "4124e6da-9021-4838-9888-4a6a156755ed"
      },
      "execution_count": 19,
      "outputs": [
        {
          "output_type": "stream",
          "name": "stdout",
          "text": [
            "Mani\n",
            "Pepe\n"
          ]
        }
      ]
    },
    {
      "cell_type": "markdown",
      "source": [
        "While"
      ],
      "metadata": {
        "id": "lwfcLnWoSnnV"
      }
    },
    {
      "cell_type": "code",
      "source": [
        "alumnos = ['Mani' , 'Pepe' , 'Anca' , 'Vada']\n",
        "\n",
        "i = 0\n",
        "\n",
        "while i <= 2:\n",
        "  print(alumnos[i])\n",
        "  i += 1"
      ],
      "metadata": {
        "colab": {
          "base_uri": "https://localhost:8080/"
        },
        "id": "1AXEyw1HSpdi",
        "outputId": "0aa63f55-4aa3-4917-f123-911223b0d640"
      },
      "execution_count": 18,
      "outputs": [
        {
          "output_type": "stream",
          "name": "stdout",
          "text": [
            "Mani\n",
            "Pepe\n",
            "Anca\n"
          ]
        }
      ]
    },
    {
      "cell_type": "markdown",
      "source": [
        "**Condiciónales**"
      ],
      "metadata": {
        "id": "B-qJ4Md1UQU4"
      }
    },
    {
      "cell_type": "code",
      "source": [
        "es_mayor_de_edad = False\n",
        "def age_legal(age):\n",
        "  if age >= 18:\n",
        "    print(\"Es usted mayor de edad\")\n",
        "    es_mayor_de_edad = True\n",
        "  elif age < 18:\n",
        "    print(\"es usted No Mayor de edad\")\n",
        "    es_mayor_de_edad = False\n",
        "\n",
        "age_1 = 17\n",
        "age_2 = 19\n",
        "age_legal(age_1)\n",
        ""
      ],
      "metadata": {
        "id": "ZqTUDyabbJwU"
      },
      "execution_count": null,
      "outputs": []
    },
    {
      "cell_type": "markdown",
      "source": [
        "Calculador"
      ],
      "metadata": {
        "id": "SMDGW90McOQZ"
      }
    },
    {
      "cell_type": "code",
      "source": [
        "def sum(num1 , num2):\n",
        "   return num1 + num2\n",
        "\n",
        "def subtraction(num1 , num2):\n",
        "  return num1 - num2\n",
        "\n",
        "def multiplicacion(num1 , num2):\n",
        "  return num1 * num2\n",
        "\n",
        "def division(num1, num2):\n",
        "  if num2 == 0:\n",
        "    return print(\"Error, you can't divid by 0\")\n",
        "  else:\n",
        "    return num1 / num2"
      ],
      "metadata": {
        "id": "EXKYbugHcQoL"
      },
      "execution_count": null,
      "outputs": []
    },
    {
      "cell_type": "code",
      "source": [
        "def calculater():\n",
        "  print(\"Bienvenida a la calculadora\")\n",
        "  print(\"Operaciones disponibles\")\n",
        "  print(\"1: suma\")\n",
        "  print(\"2: Resta\")\n",
        "  print(\"3: multiplicación\")\n",
        "  print(\"4: divición\")\n",
        "\n",
        "  num1 = float(input(\"What's num1: \"))\n",
        "  num2 = float(input(\"What's num2: \"))\n",
        "\n",
        "  while True:\n",
        "    option = input(\"Seleccione una operacion (1-4 o 0 para salir)\")\n",
        "\n",
        "    if option == \"Q\":\n",
        "      print(\"Bye bye!\")\n",
        "      break\n",
        "\n",
        "    if option not in [\"1\" , \"2\" , \"3\" , \"4\"]:\n",
        "      print(\"Por favor eliga entre 1, 2, 3, 4\")\n",
        "      continue\n",
        "\n",
        "      #num1 = float(input(\"number 1: \"))\n",
        "      #num2 = float(input(\"number 2: \"))\n",
        "\n",
        "    if option == \"1\":\n",
        "      print(sum(num1 , num2))\n",
        "\n",
        "\n",
        "    elif option == \"2\":\n",
        "      print(subtraction(num1 , num2))\n",
        "\n",
        "    elif option == \"3\":\n",
        "      print(multiplicacion(num1 , num2))\n",
        "\n",
        "\n",
        "    elif option == \"4\":\n",
        "      print(division(num1 , num2))\n",
        "\n",
        "\n",
        "calculater()\n",
        "\n",
        "\n",
        "\n"
      ],
      "metadata": {
        "colab": {
          "base_uri": "https://localhost:8080/"
        },
        "id": "AS3H2dJCdGYi",
        "outputId": "020c3e89-d8a0-4e22-e14c-f0fec5a74baf"
      },
      "execution_count": null,
      "outputs": [
        {
          "output_type": "stream",
          "name": "stdout",
          "text": [
            "Bienvenida a la calculadora\n",
            "Operaciones disponibles\n",
            "1: suma\n",
            "2: Resta\n",
            "3: multiplicación\n",
            "4: divición\n"
          ]
        }
      ]
    }
  ]
}